{
 "cells": [
  {
   "cell_type": "code",
   "execution_count": 200,
   "metadata": {},
   "outputs": [],
   "source": [
    "import pandas as pd\n",
    "import numpy as np\n",
    "import seaborn as sns\n",
    "import matplotlib.pyplot as plt"
   ]
  },
  {
   "cell_type": "code",
   "execution_count": 201,
   "metadata": {},
   "outputs": [],
   "source": [
    "# Header equal to zero means we are considering the header will be zero\n",
    "df = pd.read_csv(\"Movie_collection_train.csv\",header = 0)"
   ]
  },
  {
   "cell_type": "code",
   "execution_count": 202,
   "metadata": {},
   "outputs": [
    {
     "data": {
      "text/html": [
       "<div>\n",
       "<style scoped>\n",
       "    .dataframe tbody tr th:only-of-type {\n",
       "        vertical-align: middle;\n",
       "    }\n",
       "\n",
       "    .dataframe tbody tr th {\n",
       "        vertical-align: top;\n",
       "    }\n",
       "\n",
       "    .dataframe thead th {\n",
       "        text-align: right;\n",
       "    }\n",
       "</style>\n",
       "<table border=\"1\" class=\"dataframe\">\n",
       "  <thead>\n",
       "    <tr style=\"text-align: right;\">\n",
       "      <th></th>\n",
       "      <th>Collection</th>\n",
       "      <th>Marketin_expense</th>\n",
       "      <th>Production_expense</th>\n",
       "      <th>Multiplex_coverage</th>\n",
       "      <th>Budget</th>\n",
       "      <th>Movie_length</th>\n",
       "      <th>Lead_ Actor_Rating</th>\n",
       "      <th>Lead_Actress_rating</th>\n",
       "      <th>Director_rating</th>\n",
       "      <th>Producer_rating</th>\n",
       "      <th>Critic_rating</th>\n",
       "      <th>Trailer_views</th>\n",
       "      <th>Time_taken</th>\n",
       "      <th>Twitter_hastags</th>\n",
       "      <th>Genre</th>\n",
       "      <th>Avg_age_actors</th>\n",
       "      <th>MPAA_film_rating</th>\n",
       "      <th>Num_multiplex</th>\n",
       "      <th>3D_available</th>\n",
       "    </tr>\n",
       "  </thead>\n",
       "  <tbody>\n",
       "    <tr>\n",
       "      <td>0</td>\n",
       "      <td>48000</td>\n",
       "      <td>20.1264</td>\n",
       "      <td>59.62</td>\n",
       "      <td>0.462</td>\n",
       "      <td>36524.125</td>\n",
       "      <td>138.7</td>\n",
       "      <td>7.825</td>\n",
       "      <td>8.095</td>\n",
       "      <td>7.910</td>\n",
       "      <td>7.995</td>\n",
       "      <td>7.94</td>\n",
       "      <td>527367</td>\n",
       "      <td>109.60</td>\n",
       "      <td>223.840</td>\n",
       "      <td>Thriller</td>\n",
       "      <td>23</td>\n",
       "      <td>PG</td>\n",
       "      <td>494</td>\n",
       "      <td>YES</td>\n",
       "    </tr>\n",
       "    <tr>\n",
       "      <td>1</td>\n",
       "      <td>43200</td>\n",
       "      <td>20.5462</td>\n",
       "      <td>69.14</td>\n",
       "      <td>0.531</td>\n",
       "      <td>35668.655</td>\n",
       "      <td>152.4</td>\n",
       "      <td>7.505</td>\n",
       "      <td>7.650</td>\n",
       "      <td>7.440</td>\n",
       "      <td>7.470</td>\n",
       "      <td>7.44</td>\n",
       "      <td>494055</td>\n",
       "      <td>146.64</td>\n",
       "      <td>243.456</td>\n",
       "      <td>Drama</td>\n",
       "      <td>42</td>\n",
       "      <td>PG</td>\n",
       "      <td>462</td>\n",
       "      <td>NO</td>\n",
       "    </tr>\n",
       "    <tr>\n",
       "      <td>2</td>\n",
       "      <td>69400</td>\n",
       "      <td>20.5458</td>\n",
       "      <td>69.14</td>\n",
       "      <td>0.531</td>\n",
       "      <td>39912.675</td>\n",
       "      <td>134.6</td>\n",
       "      <td>7.485</td>\n",
       "      <td>7.570</td>\n",
       "      <td>7.495</td>\n",
       "      <td>7.515</td>\n",
       "      <td>7.44</td>\n",
       "      <td>547051</td>\n",
       "      <td>147.88</td>\n",
       "      <td>2022.400</td>\n",
       "      <td>Comedy</td>\n",
       "      <td>38</td>\n",
       "      <td>PG</td>\n",
       "      <td>458</td>\n",
       "      <td>NO</td>\n",
       "    </tr>\n",
       "    <tr>\n",
       "      <td>3</td>\n",
       "      <td>66800</td>\n",
       "      <td>20.6474</td>\n",
       "      <td>59.36</td>\n",
       "      <td>0.542</td>\n",
       "      <td>38873.890</td>\n",
       "      <td>119.3</td>\n",
       "      <td>6.895</td>\n",
       "      <td>7.035</td>\n",
       "      <td>6.920</td>\n",
       "      <td>7.020</td>\n",
       "      <td>8.26</td>\n",
       "      <td>516279</td>\n",
       "      <td>185.36</td>\n",
       "      <td>225.344</td>\n",
       "      <td>Drama</td>\n",
       "      <td>45</td>\n",
       "      <td>PG</td>\n",
       "      <td>472</td>\n",
       "      <td>YES</td>\n",
       "    </tr>\n",
       "    <tr>\n",
       "      <td>4</td>\n",
       "      <td>72400</td>\n",
       "      <td>21.3810</td>\n",
       "      <td>59.36</td>\n",
       "      <td>0.542</td>\n",
       "      <td>39701.585</td>\n",
       "      <td>127.7</td>\n",
       "      <td>6.920</td>\n",
       "      <td>7.070</td>\n",
       "      <td>6.815</td>\n",
       "      <td>7.070</td>\n",
       "      <td>8.26</td>\n",
       "      <td>531448</td>\n",
       "      <td>176.48</td>\n",
       "      <td>225.792</td>\n",
       "      <td>Drama</td>\n",
       "      <td>55</td>\n",
       "      <td>PG</td>\n",
       "      <td>395</td>\n",
       "      <td>NO</td>\n",
       "    </tr>\n",
       "  </tbody>\n",
       "</table>\n",
       "</div>"
      ],
      "text/plain": [
       "   Collection  Marketin_expense  Production_expense  Multiplex_coverage  \\\n",
       "0       48000           20.1264               59.62               0.462   \n",
       "1       43200           20.5462               69.14               0.531   \n",
       "2       69400           20.5458               69.14               0.531   \n",
       "3       66800           20.6474               59.36               0.542   \n",
       "4       72400           21.3810               59.36               0.542   \n",
       "\n",
       "      Budget  Movie_length  Lead_ Actor_Rating  Lead_Actress_rating  \\\n",
       "0  36524.125         138.7               7.825                8.095   \n",
       "1  35668.655         152.4               7.505                7.650   \n",
       "2  39912.675         134.6               7.485                7.570   \n",
       "3  38873.890         119.3               6.895                7.035   \n",
       "4  39701.585         127.7               6.920                7.070   \n",
       "\n",
       "   Director_rating  Producer_rating  Critic_rating  Trailer_views  Time_taken  \\\n",
       "0            7.910            7.995           7.94         527367      109.60   \n",
       "1            7.440            7.470           7.44         494055      146.64   \n",
       "2            7.495            7.515           7.44         547051      147.88   \n",
       "3            6.920            7.020           8.26         516279      185.36   \n",
       "4            6.815            7.070           8.26         531448      176.48   \n",
       "\n",
       "   Twitter_hastags     Genre  Avg_age_actors MPAA_film_rating  Num_multiplex  \\\n",
       "0          223.840  Thriller              23               PG            494   \n",
       "1          243.456     Drama              42               PG            462   \n",
       "2         2022.400    Comedy              38               PG            458   \n",
       "3          225.344     Drama              45               PG            472   \n",
       "4          225.792     Drama              55               PG            395   \n",
       "\n",
       "  3D_available  \n",
       "0          YES  \n",
       "1           NO  \n",
       "2           NO  \n",
       "3          YES  \n",
       "4           NO  "
      ]
     },
     "execution_count": 202,
     "metadata": {},
     "output_type": "execute_result"
    }
   ],
   "source": [
    "df.head()"
   ]
  },
  {
   "cell_type": "code",
   "execution_count": 203,
   "metadata": {},
   "outputs": [
    {
     "name": "stdout",
     "output_type": "stream",
     "text": [
      "<class 'pandas.core.frame.DataFrame'>\n",
      "RangeIndex: 400 entries, 0 to 399\n",
      "Data columns (total 19 columns):\n",
      "Collection             400 non-null int64\n",
      "Marketin_expense       400 non-null float64\n",
      "Production_expense     400 non-null float64\n",
      "Multiplex_coverage     400 non-null float64\n",
      "Budget                 400 non-null float64\n",
      "Movie_length           400 non-null float64\n",
      "Lead_ Actor_Rating     400 non-null float64\n",
      "Lead_Actress_rating    400 non-null float64\n",
      "Director_rating        400 non-null float64\n",
      "Producer_rating        400 non-null float64\n",
      "Critic_rating          400 non-null float64\n",
      "Trailer_views          400 non-null int64\n",
      "Time_taken             392 non-null float64\n",
      "Twitter_hastags        400 non-null float64\n",
      "Genre                  400 non-null object\n",
      "Avg_age_actors         400 non-null int64\n",
      "MPAA_film_rating       400 non-null object\n",
      "Num_multiplex          400 non-null int64\n",
      "3D_available           400 non-null object\n",
      "dtypes: float64(12), int64(4), object(3)\n",
      "memory usage: 59.5+ KB\n"
     ]
    }
   ],
   "source": [
    "# Here we can see that \"Time_taken\" column has some missing values\n",
    "df.info()"
   ]
  },
  {
   "cell_type": "markdown",
   "metadata": {},
   "source": [
    "#### Missing values treatment"
   ]
  },
  {
   "cell_type": "code",
   "execution_count": 204,
   "metadata": {},
   "outputs": [
    {
     "data": {
      "text/plain": [
       "157.79"
      ]
     },
     "execution_count": 204,
     "metadata": {},
     "output_type": "execute_result"
    }
   ],
   "source": [
    "df['Time_taken'].mean()"
   ]
  },
  {
   "cell_type": "code",
   "execution_count": 205,
   "metadata": {},
   "outputs": [],
   "source": [
    "df['Time_taken'].fillna(value = df['Time_taken'].mean(),inplace = True )"
   ]
  },
  {
   "cell_type": "code",
   "execution_count": 206,
   "metadata": {},
   "outputs": [
    {
     "name": "stdout",
     "output_type": "stream",
     "text": [
      "<class 'pandas.core.frame.DataFrame'>\n",
      "RangeIndex: 400 entries, 0 to 399\n",
      "Data columns (total 19 columns):\n",
      "Collection             400 non-null int64\n",
      "Marketin_expense       400 non-null float64\n",
      "Production_expense     400 non-null float64\n",
      "Multiplex_coverage     400 non-null float64\n",
      "Budget                 400 non-null float64\n",
      "Movie_length           400 non-null float64\n",
      "Lead_ Actor_Rating     400 non-null float64\n",
      "Lead_Actress_rating    400 non-null float64\n",
      "Director_rating        400 non-null float64\n",
      "Producer_rating        400 non-null float64\n",
      "Critic_rating          400 non-null float64\n",
      "Trailer_views          400 non-null int64\n",
      "Time_taken             400 non-null float64\n",
      "Twitter_hastags        400 non-null float64\n",
      "Genre                  400 non-null object\n",
      "Avg_age_actors         400 non-null int64\n",
      "MPAA_film_rating       400 non-null object\n",
      "Num_multiplex          400 non-null int64\n",
      "3D_available           400 non-null object\n",
      "dtypes: float64(12), int64(4), object(3)\n",
      "memory usage: 59.5+ KB\n"
     ]
    }
   ],
   "source": [
    "# Here we can check that \"Time_taken\" column don't have missing values \n",
    "# Bcs missing values fill by the (.mean)\n",
    "df.info()"
   ]
  },
  {
   "cell_type": "markdown",
   "metadata": {},
   "source": [
    "### Dummy Variable Creation"
   ]
  },
  {
   "cell_type": "code",
   "execution_count": 207,
   "metadata": {},
   "outputs": [
    {
     "data": {
      "text/html": [
       "<div>\n",
       "<style scoped>\n",
       "    .dataframe tbody tr th:only-of-type {\n",
       "        vertical-align: middle;\n",
       "    }\n",
       "\n",
       "    .dataframe tbody tr th {\n",
       "        vertical-align: top;\n",
       "    }\n",
       "\n",
       "    .dataframe thead th {\n",
       "        text-align: right;\n",
       "    }\n",
       "</style>\n",
       "<table border=\"1\" class=\"dataframe\">\n",
       "  <thead>\n",
       "    <tr style=\"text-align: right;\">\n",
       "      <th></th>\n",
       "      <th>Collection</th>\n",
       "      <th>Marketin_expense</th>\n",
       "      <th>Production_expense</th>\n",
       "      <th>Multiplex_coverage</th>\n",
       "      <th>Budget</th>\n",
       "      <th>Movie_length</th>\n",
       "      <th>Lead_ Actor_Rating</th>\n",
       "      <th>Lead_Actress_rating</th>\n",
       "      <th>Director_rating</th>\n",
       "      <th>Producer_rating</th>\n",
       "      <th>Critic_rating</th>\n",
       "      <th>Trailer_views</th>\n",
       "      <th>Time_taken</th>\n",
       "      <th>Twitter_hastags</th>\n",
       "      <th>Genre</th>\n",
       "      <th>Avg_age_actors</th>\n",
       "      <th>MPAA_film_rating</th>\n",
       "      <th>Num_multiplex</th>\n",
       "      <th>3D_available</th>\n",
       "    </tr>\n",
       "  </thead>\n",
       "  <tbody>\n",
       "    <tr>\n",
       "      <td>0</td>\n",
       "      <td>48000</td>\n",
       "      <td>20.1264</td>\n",
       "      <td>59.62</td>\n",
       "      <td>0.462</td>\n",
       "      <td>36524.125</td>\n",
       "      <td>138.7</td>\n",
       "      <td>7.825</td>\n",
       "      <td>8.095</td>\n",
       "      <td>7.910</td>\n",
       "      <td>7.995</td>\n",
       "      <td>7.94</td>\n",
       "      <td>527367</td>\n",
       "      <td>109.60</td>\n",
       "      <td>223.840</td>\n",
       "      <td>Thriller</td>\n",
       "      <td>23</td>\n",
       "      <td>PG</td>\n",
       "      <td>494</td>\n",
       "      <td>YES</td>\n",
       "    </tr>\n",
       "    <tr>\n",
       "      <td>1</td>\n",
       "      <td>43200</td>\n",
       "      <td>20.5462</td>\n",
       "      <td>69.14</td>\n",
       "      <td>0.531</td>\n",
       "      <td>35668.655</td>\n",
       "      <td>152.4</td>\n",
       "      <td>7.505</td>\n",
       "      <td>7.650</td>\n",
       "      <td>7.440</td>\n",
       "      <td>7.470</td>\n",
       "      <td>7.44</td>\n",
       "      <td>494055</td>\n",
       "      <td>146.64</td>\n",
       "      <td>243.456</td>\n",
       "      <td>Drama</td>\n",
       "      <td>42</td>\n",
       "      <td>PG</td>\n",
       "      <td>462</td>\n",
       "      <td>NO</td>\n",
       "    </tr>\n",
       "    <tr>\n",
       "      <td>2</td>\n",
       "      <td>69400</td>\n",
       "      <td>20.5458</td>\n",
       "      <td>69.14</td>\n",
       "      <td>0.531</td>\n",
       "      <td>39912.675</td>\n",
       "      <td>134.6</td>\n",
       "      <td>7.485</td>\n",
       "      <td>7.570</td>\n",
       "      <td>7.495</td>\n",
       "      <td>7.515</td>\n",
       "      <td>7.44</td>\n",
       "      <td>547051</td>\n",
       "      <td>147.88</td>\n",
       "      <td>2022.400</td>\n",
       "      <td>Comedy</td>\n",
       "      <td>38</td>\n",
       "      <td>PG</td>\n",
       "      <td>458</td>\n",
       "      <td>NO</td>\n",
       "    </tr>\n",
       "    <tr>\n",
       "      <td>3</td>\n",
       "      <td>66800</td>\n",
       "      <td>20.6474</td>\n",
       "      <td>59.36</td>\n",
       "      <td>0.542</td>\n",
       "      <td>38873.890</td>\n",
       "      <td>119.3</td>\n",
       "      <td>6.895</td>\n",
       "      <td>7.035</td>\n",
       "      <td>6.920</td>\n",
       "      <td>7.020</td>\n",
       "      <td>8.26</td>\n",
       "      <td>516279</td>\n",
       "      <td>185.36</td>\n",
       "      <td>225.344</td>\n",
       "      <td>Drama</td>\n",
       "      <td>45</td>\n",
       "      <td>PG</td>\n",
       "      <td>472</td>\n",
       "      <td>YES</td>\n",
       "    </tr>\n",
       "    <tr>\n",
       "      <td>4</td>\n",
       "      <td>72400</td>\n",
       "      <td>21.3810</td>\n",
       "      <td>59.36</td>\n",
       "      <td>0.542</td>\n",
       "      <td>39701.585</td>\n",
       "      <td>127.7</td>\n",
       "      <td>6.920</td>\n",
       "      <td>7.070</td>\n",
       "      <td>6.815</td>\n",
       "      <td>7.070</td>\n",
       "      <td>8.26</td>\n",
       "      <td>531448</td>\n",
       "      <td>176.48</td>\n",
       "      <td>225.792</td>\n",
       "      <td>Drama</td>\n",
       "      <td>55</td>\n",
       "      <td>PG</td>\n",
       "      <td>395</td>\n",
       "      <td>NO</td>\n",
       "    </tr>\n",
       "  </tbody>\n",
       "</table>\n",
       "</div>"
      ],
      "text/plain": [
       "   Collection  Marketin_expense  Production_expense  Multiplex_coverage  \\\n",
       "0       48000           20.1264               59.62               0.462   \n",
       "1       43200           20.5462               69.14               0.531   \n",
       "2       69400           20.5458               69.14               0.531   \n",
       "3       66800           20.6474               59.36               0.542   \n",
       "4       72400           21.3810               59.36               0.542   \n",
       "\n",
       "      Budget  Movie_length  Lead_ Actor_Rating  Lead_Actress_rating  \\\n",
       "0  36524.125         138.7               7.825                8.095   \n",
       "1  35668.655         152.4               7.505                7.650   \n",
       "2  39912.675         134.6               7.485                7.570   \n",
       "3  38873.890         119.3               6.895                7.035   \n",
       "4  39701.585         127.7               6.920                7.070   \n",
       "\n",
       "   Director_rating  Producer_rating  Critic_rating  Trailer_views  Time_taken  \\\n",
       "0            7.910            7.995           7.94         527367      109.60   \n",
       "1            7.440            7.470           7.44         494055      146.64   \n",
       "2            7.495            7.515           7.44         547051      147.88   \n",
       "3            6.920            7.020           8.26         516279      185.36   \n",
       "4            6.815            7.070           8.26         531448      176.48   \n",
       "\n",
       "   Twitter_hastags     Genre  Avg_age_actors MPAA_film_rating  Num_multiplex  \\\n",
       "0          223.840  Thriller              23               PG            494   \n",
       "1          243.456     Drama              42               PG            462   \n",
       "2         2022.400    Comedy              38               PG            458   \n",
       "3          225.344     Drama              45               PG            472   \n",
       "4          225.792     Drama              55               PG            395   \n",
       "\n",
       "  3D_available  \n",
       "0          YES  \n",
       "1           NO  \n",
       "2           NO  \n",
       "3          YES  \n",
       "4           NO  "
      ]
     },
     "execution_count": 207,
     "metadata": {},
     "output_type": "execute_result"
    }
   ],
   "source": [
    "df.head()"
   ]
  },
  {
   "cell_type": "code",
   "execution_count": 208,
   "metadata": {},
   "outputs": [],
   "source": [
    "df = pd.get_dummies(df,columns = ['3D_available','Genre','MPAA_film_rating'],drop_first = True)"
   ]
  },
  {
   "cell_type": "code",
   "execution_count": 209,
   "metadata": {},
   "outputs": [
    {
     "data": {
      "text/html": [
       "<div>\n",
       "<style scoped>\n",
       "    .dataframe tbody tr th:only-of-type {\n",
       "        vertical-align: middle;\n",
       "    }\n",
       "\n",
       "    .dataframe tbody tr th {\n",
       "        vertical-align: top;\n",
       "    }\n",
       "\n",
       "    .dataframe thead th {\n",
       "        text-align: right;\n",
       "    }\n",
       "</style>\n",
       "<table border=\"1\" class=\"dataframe\">\n",
       "  <thead>\n",
       "    <tr style=\"text-align: right;\">\n",
       "      <th></th>\n",
       "      <th>Collection</th>\n",
       "      <th>Marketin_expense</th>\n",
       "      <th>Production_expense</th>\n",
       "      <th>Multiplex_coverage</th>\n",
       "      <th>Budget</th>\n",
       "      <th>Movie_length</th>\n",
       "      <th>Lead_ Actor_Rating</th>\n",
       "      <th>Lead_Actress_rating</th>\n",
       "      <th>Director_rating</th>\n",
       "      <th>Producer_rating</th>\n",
       "      <th>Critic_rating</th>\n",
       "      <th>Trailer_views</th>\n",
       "      <th>Time_taken</th>\n",
       "      <th>Twitter_hastags</th>\n",
       "      <th>Avg_age_actors</th>\n",
       "      <th>Num_multiplex</th>\n",
       "      <th>3D_available_YES</th>\n",
       "      <th>Genre_Comedy</th>\n",
       "      <th>Genre_Drama</th>\n",
       "      <th>Genre_Thriller</th>\n",
       "    </tr>\n",
       "  </thead>\n",
       "  <tbody>\n",
       "    <tr>\n",
       "      <td>0</td>\n",
       "      <td>48000</td>\n",
       "      <td>20.1264</td>\n",
       "      <td>59.62</td>\n",
       "      <td>0.462</td>\n",
       "      <td>36524.125</td>\n",
       "      <td>138.7</td>\n",
       "      <td>7.825</td>\n",
       "      <td>8.095</td>\n",
       "      <td>7.910</td>\n",
       "      <td>7.995</td>\n",
       "      <td>7.94</td>\n",
       "      <td>527367</td>\n",
       "      <td>109.60</td>\n",
       "      <td>223.840</td>\n",
       "      <td>23</td>\n",
       "      <td>494</td>\n",
       "      <td>1</td>\n",
       "      <td>0</td>\n",
       "      <td>0</td>\n",
       "      <td>1</td>\n",
       "    </tr>\n",
       "    <tr>\n",
       "      <td>1</td>\n",
       "      <td>43200</td>\n",
       "      <td>20.5462</td>\n",
       "      <td>69.14</td>\n",
       "      <td>0.531</td>\n",
       "      <td>35668.655</td>\n",
       "      <td>152.4</td>\n",
       "      <td>7.505</td>\n",
       "      <td>7.650</td>\n",
       "      <td>7.440</td>\n",
       "      <td>7.470</td>\n",
       "      <td>7.44</td>\n",
       "      <td>494055</td>\n",
       "      <td>146.64</td>\n",
       "      <td>243.456</td>\n",
       "      <td>42</td>\n",
       "      <td>462</td>\n",
       "      <td>0</td>\n",
       "      <td>0</td>\n",
       "      <td>1</td>\n",
       "      <td>0</td>\n",
       "    </tr>\n",
       "    <tr>\n",
       "      <td>2</td>\n",
       "      <td>69400</td>\n",
       "      <td>20.5458</td>\n",
       "      <td>69.14</td>\n",
       "      <td>0.531</td>\n",
       "      <td>39912.675</td>\n",
       "      <td>134.6</td>\n",
       "      <td>7.485</td>\n",
       "      <td>7.570</td>\n",
       "      <td>7.495</td>\n",
       "      <td>7.515</td>\n",
       "      <td>7.44</td>\n",
       "      <td>547051</td>\n",
       "      <td>147.88</td>\n",
       "      <td>2022.400</td>\n",
       "      <td>38</td>\n",
       "      <td>458</td>\n",
       "      <td>0</td>\n",
       "      <td>1</td>\n",
       "      <td>0</td>\n",
       "      <td>0</td>\n",
       "    </tr>\n",
       "    <tr>\n",
       "      <td>3</td>\n",
       "      <td>66800</td>\n",
       "      <td>20.6474</td>\n",
       "      <td>59.36</td>\n",
       "      <td>0.542</td>\n",
       "      <td>38873.890</td>\n",
       "      <td>119.3</td>\n",
       "      <td>6.895</td>\n",
       "      <td>7.035</td>\n",
       "      <td>6.920</td>\n",
       "      <td>7.020</td>\n",
       "      <td>8.26</td>\n",
       "      <td>516279</td>\n",
       "      <td>185.36</td>\n",
       "      <td>225.344</td>\n",
       "      <td>45</td>\n",
       "      <td>472</td>\n",
       "      <td>1</td>\n",
       "      <td>0</td>\n",
       "      <td>1</td>\n",
       "      <td>0</td>\n",
       "    </tr>\n",
       "    <tr>\n",
       "      <td>4</td>\n",
       "      <td>72400</td>\n",
       "      <td>21.3810</td>\n",
       "      <td>59.36</td>\n",
       "      <td>0.542</td>\n",
       "      <td>39701.585</td>\n",
       "      <td>127.7</td>\n",
       "      <td>6.920</td>\n",
       "      <td>7.070</td>\n",
       "      <td>6.815</td>\n",
       "      <td>7.070</td>\n",
       "      <td>8.26</td>\n",
       "      <td>531448</td>\n",
       "      <td>176.48</td>\n",
       "      <td>225.792</td>\n",
       "      <td>55</td>\n",
       "      <td>395</td>\n",
       "      <td>0</td>\n",
       "      <td>0</td>\n",
       "      <td>1</td>\n",
       "      <td>0</td>\n",
       "    </tr>\n",
       "  </tbody>\n",
       "</table>\n",
       "</div>"
      ],
      "text/plain": [
       "   Collection  Marketin_expense  Production_expense  Multiplex_coverage  \\\n",
       "0       48000           20.1264               59.62               0.462   \n",
       "1       43200           20.5462               69.14               0.531   \n",
       "2       69400           20.5458               69.14               0.531   \n",
       "3       66800           20.6474               59.36               0.542   \n",
       "4       72400           21.3810               59.36               0.542   \n",
       "\n",
       "      Budget  Movie_length  Lead_ Actor_Rating  Lead_Actress_rating  \\\n",
       "0  36524.125         138.7               7.825                8.095   \n",
       "1  35668.655         152.4               7.505                7.650   \n",
       "2  39912.675         134.6               7.485                7.570   \n",
       "3  38873.890         119.3               6.895                7.035   \n",
       "4  39701.585         127.7               6.920                7.070   \n",
       "\n",
       "   Director_rating  Producer_rating  Critic_rating  Trailer_views  Time_taken  \\\n",
       "0            7.910            7.995           7.94         527367      109.60   \n",
       "1            7.440            7.470           7.44         494055      146.64   \n",
       "2            7.495            7.515           7.44         547051      147.88   \n",
       "3            6.920            7.020           8.26         516279      185.36   \n",
       "4            6.815            7.070           8.26         531448      176.48   \n",
       "\n",
       "   Twitter_hastags  Avg_age_actors  Num_multiplex  3D_available_YES  \\\n",
       "0          223.840              23            494                 1   \n",
       "1          243.456              42            462                 0   \n",
       "2         2022.400              38            458                 0   \n",
       "3          225.344              45            472                 1   \n",
       "4          225.792              55            395                 0   \n",
       "\n",
       "   Genre_Comedy  Genre_Drama  Genre_Thriller  \n",
       "0             0            0               1  \n",
       "1             0            1               0  \n",
       "2             1            0               0  \n",
       "3             0            1               0  \n",
       "4             0            1               0  "
      ]
     },
     "execution_count": 209,
     "metadata": {},
     "output_type": "execute_result"
    }
   ],
   "source": [
    "df.head()"
   ]
  },
  {
   "cell_type": "markdown",
   "metadata": {},
   "source": [
    "### X,y split"
   ]
  },
  {
   "cell_type": "code",
   "execution_count": 210,
   "metadata": {},
   "outputs": [
    {
     "data": {
      "text/plain": [
       "pandas.core.frame.DataFrame"
      ]
     },
     "execution_count": 210,
     "metadata": {},
     "output_type": "execute_result"
    }
   ],
   "source": [
    "# here (:) this indicates about all culumns(!=)except this\n",
    "X = df.loc[:,df.columns!='Collection']\n",
    "type(X)"
   ]
  },
  {
   "cell_type": "code",
   "execution_count": 211,
   "metadata": {},
   "outputs": [
    {
     "data": {
      "text/html": [
       "<div>\n",
       "<style scoped>\n",
       "    .dataframe tbody tr th:only-of-type {\n",
       "        vertical-align: middle;\n",
       "    }\n",
       "\n",
       "    .dataframe tbody tr th {\n",
       "        vertical-align: top;\n",
       "    }\n",
       "\n",
       "    .dataframe thead th {\n",
       "        text-align: right;\n",
       "    }\n",
       "</style>\n",
       "<table border=\"1\" class=\"dataframe\">\n",
       "  <thead>\n",
       "    <tr style=\"text-align: right;\">\n",
       "      <th></th>\n",
       "      <th>Marketin_expense</th>\n",
       "      <th>Production_expense</th>\n",
       "      <th>Multiplex_coverage</th>\n",
       "      <th>Budget</th>\n",
       "      <th>Movie_length</th>\n",
       "      <th>Lead_ Actor_Rating</th>\n",
       "      <th>Lead_Actress_rating</th>\n",
       "      <th>Director_rating</th>\n",
       "      <th>Producer_rating</th>\n",
       "      <th>Critic_rating</th>\n",
       "      <th>Trailer_views</th>\n",
       "      <th>Time_taken</th>\n",
       "      <th>Twitter_hastags</th>\n",
       "      <th>Avg_age_actors</th>\n",
       "      <th>Num_multiplex</th>\n",
       "      <th>3D_available_YES</th>\n",
       "      <th>Genre_Comedy</th>\n",
       "      <th>Genre_Drama</th>\n",
       "      <th>Genre_Thriller</th>\n",
       "    </tr>\n",
       "  </thead>\n",
       "  <tbody>\n",
       "    <tr>\n",
       "      <td>0</td>\n",
       "      <td>20.1264</td>\n",
       "      <td>59.62</td>\n",
       "      <td>0.462</td>\n",
       "      <td>36524.125</td>\n",
       "      <td>138.7</td>\n",
       "      <td>7.825</td>\n",
       "      <td>8.095</td>\n",
       "      <td>7.910</td>\n",
       "      <td>7.995</td>\n",
       "      <td>7.94</td>\n",
       "      <td>527367</td>\n",
       "      <td>109.60</td>\n",
       "      <td>223.840</td>\n",
       "      <td>23</td>\n",
       "      <td>494</td>\n",
       "      <td>1</td>\n",
       "      <td>0</td>\n",
       "      <td>0</td>\n",
       "      <td>1</td>\n",
       "    </tr>\n",
       "    <tr>\n",
       "      <td>1</td>\n",
       "      <td>20.5462</td>\n",
       "      <td>69.14</td>\n",
       "      <td>0.531</td>\n",
       "      <td>35668.655</td>\n",
       "      <td>152.4</td>\n",
       "      <td>7.505</td>\n",
       "      <td>7.650</td>\n",
       "      <td>7.440</td>\n",
       "      <td>7.470</td>\n",
       "      <td>7.44</td>\n",
       "      <td>494055</td>\n",
       "      <td>146.64</td>\n",
       "      <td>243.456</td>\n",
       "      <td>42</td>\n",
       "      <td>462</td>\n",
       "      <td>0</td>\n",
       "      <td>0</td>\n",
       "      <td>1</td>\n",
       "      <td>0</td>\n",
       "    </tr>\n",
       "    <tr>\n",
       "      <td>2</td>\n",
       "      <td>20.5458</td>\n",
       "      <td>69.14</td>\n",
       "      <td>0.531</td>\n",
       "      <td>39912.675</td>\n",
       "      <td>134.6</td>\n",
       "      <td>7.485</td>\n",
       "      <td>7.570</td>\n",
       "      <td>7.495</td>\n",
       "      <td>7.515</td>\n",
       "      <td>7.44</td>\n",
       "      <td>547051</td>\n",
       "      <td>147.88</td>\n",
       "      <td>2022.400</td>\n",
       "      <td>38</td>\n",
       "      <td>458</td>\n",
       "      <td>0</td>\n",
       "      <td>1</td>\n",
       "      <td>0</td>\n",
       "      <td>0</td>\n",
       "    </tr>\n",
       "    <tr>\n",
       "      <td>3</td>\n",
       "      <td>20.6474</td>\n",
       "      <td>59.36</td>\n",
       "      <td>0.542</td>\n",
       "      <td>38873.890</td>\n",
       "      <td>119.3</td>\n",
       "      <td>6.895</td>\n",
       "      <td>7.035</td>\n",
       "      <td>6.920</td>\n",
       "      <td>7.020</td>\n",
       "      <td>8.26</td>\n",
       "      <td>516279</td>\n",
       "      <td>185.36</td>\n",
       "      <td>225.344</td>\n",
       "      <td>45</td>\n",
       "      <td>472</td>\n",
       "      <td>1</td>\n",
       "      <td>0</td>\n",
       "      <td>1</td>\n",
       "      <td>0</td>\n",
       "    </tr>\n",
       "    <tr>\n",
       "      <td>4</td>\n",
       "      <td>21.3810</td>\n",
       "      <td>59.36</td>\n",
       "      <td>0.542</td>\n",
       "      <td>39701.585</td>\n",
       "      <td>127.7</td>\n",
       "      <td>6.920</td>\n",
       "      <td>7.070</td>\n",
       "      <td>6.815</td>\n",
       "      <td>7.070</td>\n",
       "      <td>8.26</td>\n",
       "      <td>531448</td>\n",
       "      <td>176.48</td>\n",
       "      <td>225.792</td>\n",
       "      <td>55</td>\n",
       "      <td>395</td>\n",
       "      <td>0</td>\n",
       "      <td>0</td>\n",
       "      <td>1</td>\n",
       "      <td>0</td>\n",
       "    </tr>\n",
       "  </tbody>\n",
       "</table>\n",
       "</div>"
      ],
      "text/plain": [
       "   Marketin_expense  Production_expense  Multiplex_coverage     Budget  \\\n",
       "0           20.1264               59.62               0.462  36524.125   \n",
       "1           20.5462               69.14               0.531  35668.655   \n",
       "2           20.5458               69.14               0.531  39912.675   \n",
       "3           20.6474               59.36               0.542  38873.890   \n",
       "4           21.3810               59.36               0.542  39701.585   \n",
       "\n",
       "   Movie_length  Lead_ Actor_Rating  Lead_Actress_rating  Director_rating  \\\n",
       "0         138.7               7.825                8.095            7.910   \n",
       "1         152.4               7.505                7.650            7.440   \n",
       "2         134.6               7.485                7.570            7.495   \n",
       "3         119.3               6.895                7.035            6.920   \n",
       "4         127.7               6.920                7.070            6.815   \n",
       "\n",
       "   Producer_rating  Critic_rating  Trailer_views  Time_taken  Twitter_hastags  \\\n",
       "0            7.995           7.94         527367      109.60          223.840   \n",
       "1            7.470           7.44         494055      146.64          243.456   \n",
       "2            7.515           7.44         547051      147.88         2022.400   \n",
       "3            7.020           8.26         516279      185.36          225.344   \n",
       "4            7.070           8.26         531448      176.48          225.792   \n",
       "\n",
       "   Avg_age_actors  Num_multiplex  3D_available_YES  Genre_Comedy  Genre_Drama  \\\n",
       "0              23            494                 1             0            0   \n",
       "1              42            462                 0             0            1   \n",
       "2              38            458                 0             1            0   \n",
       "3              45            472                 1             0            1   \n",
       "4              55            395                 0             0            1   \n",
       "\n",
       "   Genre_Thriller  \n",
       "0               1  \n",
       "1               0  \n",
       "2               0  \n",
       "3               0  \n",
       "4               0  "
      ]
     },
     "execution_count": 211,
     "metadata": {},
     "output_type": "execute_result"
    }
   ],
   "source": [
    "# Here we can see that all independent variable are showing\n",
    "X.head()"
   ]
  },
  {
   "cell_type": "code",
   "execution_count": 212,
   "metadata": {},
   "outputs": [
    {
     "data": {
      "text/plain": [
       "(400, 19)"
      ]
     },
     "execution_count": 212,
     "metadata": {},
     "output_type": "execute_result"
    }
   ],
   "source": [
    "X.shape"
   ]
  },
  {
   "cell_type": "code",
   "execution_count": 213,
   "metadata": {},
   "outputs": [
    {
     "data": {
      "text/plain": [
       "pandas.core.series.Series"
      ]
     },
     "execution_count": 213,
     "metadata": {},
     "output_type": "execute_result"
    }
   ],
   "source": [
    "y = df[\"Collection\"]\n",
    "type(y)"
   ]
  },
  {
   "cell_type": "code",
   "execution_count": 214,
   "metadata": {},
   "outputs": [
    {
     "data": {
      "text/plain": [
       "0    48000\n",
       "1    43200\n",
       "2    69400\n",
       "3    66800\n",
       "4    72400\n",
       "Name: Collection, dtype: int64"
      ]
     },
     "execution_count": 214,
     "metadata": {},
     "output_type": "execute_result"
    }
   ],
   "source": [
    "# this is the independent variable\n",
    "y.head()"
   ]
  },
  {
   "cell_type": "code",
   "execution_count": 215,
   "metadata": {},
   "outputs": [
    {
     "data": {
      "text/plain": [
       "(400,)"
      ]
     },
     "execution_count": 215,
     "metadata": {},
     "output_type": "execute_result"
    }
   ],
   "source": [
    "y.shape"
   ]
  },
  {
   "cell_type": "code",
   "execution_count": 216,
   "metadata": {},
   "outputs": [],
   "source": [
    "# this is one of the methos we can assign the values for the predicting the model\n",
    "# x1 = df.drop(\"Collection\", axis=1).values \n",
    "#y1 = df[\"Collection\"].values\n",
    "#x1.shape\n",
    "#y1.shape"
   ]
  },
  {
   "cell_type": "markdown",
   "metadata": {},
   "source": [
    "## Test-Train Split"
   ]
  },
  {
   "cell_type": "code",
   "execution_count": 217,
   "metadata": {},
   "outputs": [],
   "source": [
    "from sklearn.model_selection import train_test_split"
   ]
  },
  {
   "cell_type": "code",
   "execution_count": 218,
   "metadata": {},
   "outputs": [],
   "source": [
    "X_train,X_test,y_train,y_test = train_test_split(X,y,test_size = 0.2,random_state = 0)"
   ]
  },
  {
   "cell_type": "code",
   "execution_count": 219,
   "metadata": {},
   "outputs": [
    {
     "data": {
      "text/html": [
       "<div>\n",
       "<style scoped>\n",
       "    .dataframe tbody tr th:only-of-type {\n",
       "        vertical-align: middle;\n",
       "    }\n",
       "\n",
       "    .dataframe tbody tr th {\n",
       "        vertical-align: top;\n",
       "    }\n",
       "\n",
       "    .dataframe thead th {\n",
       "        text-align: right;\n",
       "    }\n",
       "</style>\n",
       "<table border=\"1\" class=\"dataframe\">\n",
       "  <thead>\n",
       "    <tr style=\"text-align: right;\">\n",
       "      <th></th>\n",
       "      <th>Marketin_expense</th>\n",
       "      <th>Production_expense</th>\n",
       "      <th>Multiplex_coverage</th>\n",
       "      <th>Budget</th>\n",
       "      <th>Movie_length</th>\n",
       "      <th>Lead_ Actor_Rating</th>\n",
       "      <th>Lead_Actress_rating</th>\n",
       "      <th>Director_rating</th>\n",
       "      <th>Producer_rating</th>\n",
       "      <th>Critic_rating</th>\n",
       "      <th>Trailer_views</th>\n",
       "      <th>Time_taken</th>\n",
       "      <th>Twitter_hastags</th>\n",
       "      <th>Avg_age_actors</th>\n",
       "      <th>Num_multiplex</th>\n",
       "      <th>3D_available_YES</th>\n",
       "      <th>Genre_Comedy</th>\n",
       "      <th>Genre_Drama</th>\n",
       "      <th>Genre_Thriller</th>\n",
       "    </tr>\n",
       "  </thead>\n",
       "  <tbody>\n",
       "    <tr>\n",
       "      <td>336</td>\n",
       "      <td>20.6854</td>\n",
       "      <td>65.38</td>\n",
       "      <td>0.4850</td>\n",
       "      <td>32602.295</td>\n",
       "      <td>119.8</td>\n",
       "      <td>7.250</td>\n",
       "      <td>7.545</td>\n",
       "      <td>7.250</td>\n",
       "      <td>7.495</td>\n",
       "      <td>6.96</td>\n",
       "      <td>483878</td>\n",
       "      <td>201.80</td>\n",
       "      <td>303.120</td>\n",
       "      <td>53</td>\n",
       "      <td>447</td>\n",
       "      <td>0</td>\n",
       "      <td>0</td>\n",
       "      <td>0</td>\n",
       "      <td>1</td>\n",
       "    </tr>\n",
       "    <tr>\n",
       "      <td>64</td>\n",
       "      <td>20.3902</td>\n",
       "      <td>57.76</td>\n",
       "      <td>0.5839</td>\n",
       "      <td>39462.720</td>\n",
       "      <td>133.0</td>\n",
       "      <td>5.280</td>\n",
       "      <td>5.455</td>\n",
       "      <td>5.315</td>\n",
       "      <td>5.505</td>\n",
       "      <td>7.28</td>\n",
       "      <td>477265</td>\n",
       "      <td>165.20</td>\n",
       "      <td>205.280</td>\n",
       "      <td>30</td>\n",
       "      <td>390</td>\n",
       "      <td>1</td>\n",
       "      <td>0</td>\n",
       "      <td>0</td>\n",
       "      <td>0</td>\n",
       "    </tr>\n",
       "    <tr>\n",
       "      <td>55</td>\n",
       "      <td>20.2622</td>\n",
       "      <td>57.44</td>\n",
       "      <td>0.5970</td>\n",
       "      <td>40268.195</td>\n",
       "      <td>95.4</td>\n",
       "      <td>5.550</td>\n",
       "      <td>5.795</td>\n",
       "      <td>5.605</td>\n",
       "      <td>5.655</td>\n",
       "      <td>8.42</td>\n",
       "      <td>512329</td>\n",
       "      <td>150.16</td>\n",
       "      <td>265.664</td>\n",
       "      <td>50</td>\n",
       "      <td>480</td>\n",
       "      <td>1</td>\n",
       "      <td>0</td>\n",
       "      <td>0</td>\n",
       "      <td>1</td>\n",
       "    </tr>\n",
       "    <tr>\n",
       "      <td>106</td>\n",
       "      <td>23.4240</td>\n",
       "      <td>72.12</td>\n",
       "      <td>0.4800</td>\n",
       "      <td>32418.980</td>\n",
       "      <td>165.4</td>\n",
       "      <td>8.815</td>\n",
       "      <td>8.965</td>\n",
       "      <td>8.760</td>\n",
       "      <td>9.040</td>\n",
       "      <td>6.82</td>\n",
       "      <td>405008</td>\n",
       "      <td>205.80</td>\n",
       "      <td>283.120</td>\n",
       "      <td>20</td>\n",
       "      <td>482</td>\n",
       "      <td>1</td>\n",
       "      <td>0</td>\n",
       "      <td>1</td>\n",
       "      <td>0</td>\n",
       "    </tr>\n",
       "    <tr>\n",
       "      <td>300</td>\n",
       "      <td>20.8834</td>\n",
       "      <td>59.48</td>\n",
       "      <td>0.6000</td>\n",
       "      <td>38168.405</td>\n",
       "      <td>120.9</td>\n",
       "      <td>5.955</td>\n",
       "      <td>6.160</td>\n",
       "      <td>6.055</td>\n",
       "      <td>6.175</td>\n",
       "      <td>9.04</td>\n",
       "      <td>503113</td>\n",
       "      <td>181.92</td>\n",
       "      <td>223.968</td>\n",
       "      <td>29</td>\n",
       "      <td>429</td>\n",
       "      <td>1</td>\n",
       "      <td>0</td>\n",
       "      <td>0</td>\n",
       "      <td>1</td>\n",
       "    </tr>\n",
       "  </tbody>\n",
       "</table>\n",
       "</div>"
      ],
      "text/plain": [
       "     Marketin_expense  Production_expense  Multiplex_coverage     Budget  \\\n",
       "336           20.6854               65.38              0.4850  32602.295   \n",
       "64            20.3902               57.76              0.5839  39462.720   \n",
       "55            20.2622               57.44              0.5970  40268.195   \n",
       "106           23.4240               72.12              0.4800  32418.980   \n",
       "300           20.8834               59.48              0.6000  38168.405   \n",
       "\n",
       "     Movie_length  Lead_ Actor_Rating  Lead_Actress_rating  Director_rating  \\\n",
       "336         119.8               7.250                7.545            7.250   \n",
       "64          133.0               5.280                5.455            5.315   \n",
       "55           95.4               5.550                5.795            5.605   \n",
       "106         165.4               8.815                8.965            8.760   \n",
       "300         120.9               5.955                6.160            6.055   \n",
       "\n",
       "     Producer_rating  Critic_rating  Trailer_views  Time_taken  \\\n",
       "336            7.495           6.96         483878      201.80   \n",
       "64             5.505           7.28         477265      165.20   \n",
       "55             5.655           8.42         512329      150.16   \n",
       "106            9.040           6.82         405008      205.80   \n",
       "300            6.175           9.04         503113      181.92   \n",
       "\n",
       "     Twitter_hastags  Avg_age_actors  Num_multiplex  3D_available_YES  \\\n",
       "336          303.120              53            447                 0   \n",
       "64           205.280              30            390                 1   \n",
       "55           265.664              50            480                 1   \n",
       "106          283.120              20            482                 1   \n",
       "300          223.968              29            429                 1   \n",
       "\n",
       "     Genre_Comedy  Genre_Drama  Genre_Thriller  \n",
       "336             0            0               1  \n",
       "64              0            0               0  \n",
       "55              0            0               1  \n",
       "106             0            1               0  \n",
       "300             0            0               1  "
      ]
     },
     "execution_count": 219,
     "metadata": {},
     "output_type": "execute_result"
    }
   ],
   "source": [
    "# Here we can see that the index no. is suffle why bcs some data is went for test dataset\n",
    "# Which contain the 80% of data for train\n",
    "X_train.head()"
   ]
  },
  {
   "cell_type": "code",
   "execution_count": 220,
   "metadata": {},
   "outputs": [
    {
     "data": {
      "text/plain": [
       "(320, 19)"
      ]
     },
     "execution_count": 220,
     "metadata": {},
     "output_type": "execute_result"
    }
   ],
   "source": [
    "# Here this data will used for train your model\n",
    "X_train.shape"
   ]
  },
  {
   "cell_type": "code",
   "execution_count": 221,
   "metadata": {},
   "outputs": [
    {
     "data": {
      "text/plain": [
       "(80, 19)"
      ]
     },
     "execution_count": 221,
     "metadata": {},
     "output_type": "execute_result"
    }
   ],
   "source": [
    "# This data will use for testing or evaluate performance of the model\n",
    "X_test.shape"
   ]
  },
  {
   "cell_type": "markdown",
   "metadata": {},
   "source": [
    "### Training Regression Tree"
   ]
  },
  {
   "cell_type": "code",
   "execution_count": 222,
   "metadata": {},
   "outputs": [],
   "source": [
    "# Here we use the depth for no.of layers in the tree\n",
    "# do not exceed max_depth value more than 5\n",
    "from sklearn import tree\n",
    "regtree =tree.DecisionTreeRegressor(max_depth = 3)"
   ]
  },
  {
   "cell_type": "code",
   "execution_count": 223,
   "metadata": {},
   "outputs": [
    {
     "data": {
      "text/plain": [
       "DecisionTreeRegressor(criterion='mse', max_depth=3, max_features=None,\n",
       "                      max_leaf_nodes=None, min_impurity_decrease=0.0,\n",
       "                      min_impurity_split=None, min_samples_leaf=1,\n",
       "                      min_samples_split=2, min_weight_fraction_leaf=0.0,\n",
       "                      presort=False, random_state=None, splitter='best')"
      ]
     },
     "execution_count": 223,
     "metadata": {},
     "output_type": "execute_result"
    }
   ],
   "source": [
    "regtree.fit(X_train, y_train)"
   ]
  },
  {
   "cell_type": "markdown",
   "metadata": {},
   "source": [
    "### Predict Values using trained model"
   ]
  },
  {
   "cell_type": "code",
   "execution_count": 224,
   "metadata": {},
   "outputs": [],
   "source": [
    "y_train_pred = regtree.predict(X_train)\n",
    "y_test_pred = regtree.predict(X_test)"
   ]
  },
  {
   "cell_type": "code",
   "execution_count": 225,
   "metadata": {},
   "outputs": [
    {
     "data": {
      "text/plain": [
       "array([ 47146.66666667,  64866.66666667,  64866.66666667,  37268.96551724,\n",
       "        64866.66666667,  47146.66666667,  37268.96551724,  22834.7826087 ,\n",
       "        22834.7826087 ,  47146.66666667,  25400.        ,  91725.        ,\n",
       "        47146.66666667,  37268.96551724,  64866.66666667,  37268.96551724,\n",
       "        37268.96551724,  22834.7826087 ,  64866.66666667,  43800.        ,\n",
       "        47146.66666667,  47146.66666667,  47146.66666667,  47146.66666667,\n",
       "        91725.        ,  47146.66666667,  47146.66666667,  64866.66666667,\n",
       "        37268.96551724,  47146.66666667,  47146.66666667,  64866.66666667,\n",
       "        47146.66666667,  47146.66666667,  47146.66666667,  37268.96551724,\n",
       "        64866.66666667,  37268.96551724,  47146.66666667,  47146.66666667,\n",
       "        47146.66666667,  47146.66666667,  47146.66666667,  91725.        ,\n",
       "        22834.7826087 ,  37268.96551724,  37268.96551724,  64866.66666667,\n",
       "        47146.66666667,  47146.66666667,  37268.96551724,  22834.7826087 ,\n",
       "        47146.66666667,  64866.66666667,  37268.96551724,  47146.66666667,\n",
       "        47146.66666667,  47146.66666667,  47146.66666667,  37268.96551724,\n",
       "        47146.66666667,  91725.        ,  37268.96551724,  37268.96551724,\n",
       "        64866.66666667,  37268.96551724,  47146.66666667,  37268.96551724,\n",
       "        47146.66666667,  37268.96551724,  47146.66666667,  47146.66666667,\n",
       "        47146.66666667,  37268.96551724,  47146.66666667,  37268.96551724,\n",
       "        64866.66666667,  37268.96551724,  64866.66666667,  64866.66666667,\n",
       "        64866.66666667,  37268.96551724,  37268.96551724,  22834.7826087 ,\n",
       "        91725.        ,  37268.96551724,  64866.66666667,  91725.        ,\n",
       "        47146.66666667,  37268.96551724,  47146.66666667,  91725.        ,\n",
       "        64866.66666667,  37268.96551724,  47146.66666667,  47146.66666667,\n",
       "        47146.66666667,  37268.96551724,  47146.66666667,  22834.7826087 ,\n",
       "        91725.        ,  47146.66666667,  37268.96551724,  22834.7826087 ,\n",
       "        64866.66666667,  37268.96551724,  47146.66666667,  47146.66666667,\n",
       "        47146.66666667,  47146.66666667,  47146.66666667,  47146.66666667,\n",
       "        47146.66666667,  37268.96551724,  64866.66666667,  47146.66666667,\n",
       "        37268.96551724,  37268.96551724,  22834.7826087 ,  37268.96551724,\n",
       "        37268.96551724,  47146.66666667,  37268.96551724,  47146.66666667,\n",
       "        47146.66666667,  64866.66666667,  47146.66666667,  47146.66666667,\n",
       "        91725.        ,  22834.7826087 ,  47146.66666667,  37268.96551724,\n",
       "        47146.66666667,  47146.66666667,  47146.66666667,  37268.96551724,\n",
       "        47146.66666667,  47146.66666667,  91725.        ,  22834.7826087 ,\n",
       "        22834.7826087 ,  47146.66666667,  64866.66666667,  37268.96551724,\n",
       "        64866.66666667,  47146.66666667,  47146.66666667,  22834.7826087 ,\n",
       "        47146.66666667,  47146.66666667,  47146.66666667,  47146.66666667,\n",
       "        22834.7826087 ,  22834.7826087 ,  91725.        ,  47146.66666667,\n",
       "        37268.96551724,  91725.        ,  47146.66666667,  64866.66666667,\n",
       "        22834.7826087 ,  37268.96551724,  47146.66666667,  47146.66666667,\n",
       "        37268.96551724,  25400.        ,  37268.96551724,  37268.96551724,\n",
       "        64866.66666667,  37268.96551724,  47146.66666667,  37268.96551724,\n",
       "        47146.66666667,  37268.96551724,  37268.96551724,  47146.66666667,\n",
       "        47146.66666667,  37268.96551724,  64866.66666667,  47146.66666667,\n",
       "        47146.66666667,  47146.66666667,  47146.66666667,  91725.        ,\n",
       "        64866.66666667,  64866.66666667,  64866.66666667,  37268.96551724,\n",
       "        47146.66666667,  37268.96551724,  47146.66666667,  22834.7826087 ,\n",
       "        47146.66666667,  64866.66666667,  22834.7826087 ,  47146.66666667,\n",
       "        64866.66666667,  37268.96551724,  47146.66666667,  37268.96551724,\n",
       "        64866.66666667,  47146.66666667,  22834.7826087 ,  47146.66666667,\n",
       "        47146.66666667,  37268.96551724,  37268.96551724,  37268.96551724,\n",
       "        37268.96551724,  37268.96551724,  37268.96551724,  37268.96551724,\n",
       "        64866.66666667,  47146.66666667,  47146.66666667,  47146.66666667,\n",
       "        47146.66666667,  37268.96551724,  47146.66666667,  47146.66666667,\n",
       "        47146.66666667,  47146.66666667,  91725.        ,  22834.7826087 ,\n",
       "        64866.66666667,  91725.        ,  47146.66666667, 100000.        ,\n",
       "        47146.66666667,  47146.66666667,  37268.96551724,  47146.66666667,\n",
       "        47146.66666667,  37268.96551724,  37268.96551724,  64866.66666667,\n",
       "        64866.66666667,  37268.96551724,  37268.96551724,  91725.        ,\n",
       "        37268.96551724,  47146.66666667,  22834.7826087 ,  91725.        ,\n",
       "        47146.66666667,  91725.        ,  37268.96551724,  37268.96551724,\n",
       "        47146.66666667,  37268.96551724,  47146.66666667,  47146.66666667,\n",
       "        91725.        ,  47146.66666667,  64866.66666667,  64866.66666667,\n",
       "        47146.66666667,  91725.        ,  47146.66666667,  47146.66666667,\n",
       "        37268.96551724, 100000.        ,  91725.        ,  47146.66666667,\n",
       "        47146.66666667,  47146.66666667,  47146.66666667,  37268.96551724,\n",
       "        64866.66666667,  37268.96551724,  47146.66666667,  91725.        ,\n",
       "        47146.66666667,  47146.66666667,  91725.        ,  37268.96551724,\n",
       "        37268.96551724,  37268.96551724,  47146.66666667, 100000.        ,\n",
       "        47146.66666667,  37268.96551724,  37268.96551724,  47146.66666667,\n",
       "        64866.66666667,  47146.66666667,  64866.66666667,  47146.66666667,\n",
       "        47146.66666667,  64866.66666667,  47146.66666667,  37268.96551724,\n",
       "        47146.66666667,  47146.66666667,  47146.66666667,  37268.96551724,\n",
       "        47146.66666667,  37268.96551724,  22834.7826087 ,  47146.66666667,\n",
       "        22834.7826087 ,  47146.66666667,  64866.66666667,  47146.66666667,\n",
       "        64866.66666667,  47146.66666667,  47146.66666667,  47146.66666667,\n",
       "        47146.66666667,  64866.66666667,  37268.96551724,  37268.96551724,\n",
       "        37268.96551724,  91725.        ,  47146.66666667,  37268.96551724,\n",
       "        64866.66666667,  37268.96551724,  37268.96551724,  37268.96551724])"
      ]
     },
     "execution_count": 225,
     "metadata": {},
     "output_type": "execute_result"
    }
   ],
   "source": [
    "# Here we can see that the predicted values(y_train_prep)\n",
    "y_train_pred"
   ]
  },
  {
   "cell_type": "code",
   "execution_count": 226,
   "metadata": {},
   "outputs": [
    {
     "data": {
      "text/plain": [
       "array([47146.66666667, 47146.66666667, 64866.66666667, 64866.66666667,\n",
       "       47146.66666667, 47146.66666667, 37268.96551724, 91725.        ,\n",
       "       37268.96551724, 37268.96551724, 47146.66666667, 37268.96551724,\n",
       "       37268.96551724, 47146.66666667, 37268.96551724, 47146.66666667,\n",
       "       47146.66666667, 37268.96551724, 37268.96551724, 64866.66666667,\n",
       "       47146.66666667, 91725.        , 37268.96551724, 64866.66666667,\n",
       "       47146.66666667, 47146.66666667, 37268.96551724, 47146.66666667,\n",
       "       37268.96551724, 47146.66666667, 37268.96551724, 64866.66666667,\n",
       "       47146.66666667, 91725.        , 47146.66666667, 47146.66666667,\n",
       "       47146.66666667, 47146.66666667, 64866.66666667, 22834.7826087 ,\n",
       "       47146.66666667, 47146.66666667, 47146.66666667, 47146.66666667,\n",
       "       37268.96551724, 37268.96551724, 22834.7826087 , 47146.66666667,\n",
       "       47146.66666667, 91725.        , 47146.66666667, 37268.96551724,\n",
       "       47146.66666667, 47146.66666667, 91725.        , 47146.66666667,\n",
       "       47146.66666667, 37268.96551724, 37268.96551724, 47146.66666667,\n",
       "       47146.66666667, 47146.66666667, 64866.66666667, 47146.66666667,\n",
       "       47146.66666667, 22834.7826087 , 37268.96551724, 47146.66666667,\n",
       "       37268.96551724, 37268.96551724, 37268.96551724, 64866.66666667,\n",
       "       47146.66666667, 37268.96551724, 37268.96551724, 47146.66666667,\n",
       "       37268.96551724, 64866.66666667, 47146.66666667, 47146.66666667])"
      ]
     },
     "execution_count": 226,
     "metadata": {},
     "output_type": "execute_result"
    }
   ],
   "source": [
    "# Here we can see that predicted values\n",
    "y_test_pred"
   ]
  },
  {
   "cell_type": "markdown",
   "metadata": {},
   "source": [
    "### Evaluating Model Performance"
   ]
  },
  {
   "cell_type": "code",
   "execution_count": 227,
   "metadata": {},
   "outputs": [],
   "source": [
    "# this is used for model performance\n",
    "# r2_score this is goodness of our model, it varies from 0 to 1\n",
    "# 0 ---> No fot for model\n",
    "# 1 ---> \n",
    "\n",
    "from sklearn.metrics import mean_squared_error,r2_score"
   ]
  },
  {
   "cell_type": "code",
   "execution_count": 228,
   "metadata": {},
   "outputs": [
    {
     "data": {
      "text/plain": [
       "116554023.96381056"
      ]
     },
     "execution_count": 228,
     "metadata": {},
     "output_type": "execute_result"
    }
   ],
   "source": [
    "# MSE result used for only calculate of different model on our same data set\n",
    "mean_squared_error(y_test,y_test_pred)"
   ]
  },
  {
   "cell_type": "code",
   "execution_count": 229,
   "metadata": {},
   "outputs": [
    {
     "data": {
      "text/plain": [
       "0.8477196523486658"
      ]
     },
     "execution_count": 229,
     "metadata": {},
     "output_type": "execute_result"
    }
   ],
   "source": [
    "# this results shows our model performing great\n",
    "r2_score(y_train,y_train_pred)"
   ]
  },
  {
   "cell_type": "code",
   "execution_count": 230,
   "metadata": {},
   "outputs": [
    {
     "data": {
      "text/plain": [
       "0.6241422194036836"
      ]
     },
     "execution_count": 230,
     "metadata": {},
     "output_type": "execute_result"
    }
   ],
   "source": [
    "# this result is used for evaluate the our model performance and this is not used for training data\n",
    "r2_score(y_test,y_test_pred)"
   ]
  },
  {
   "cell_type": "code",
   "execution_count": null,
   "metadata": {},
   "outputs": [],
   "source": []
  },
  {
   "cell_type": "code",
   "execution_count": 239,
   "metadata": {},
   "outputs": [],
   "source": [
    "dot_data = tree.export_graphviz(regtree,out_file = None)"
   ]
  },
  {
   "cell_type": "code",
   "execution_count": 240,
   "metadata": {},
   "outputs": [],
   "source": [
    "from IPython.display import Image"
   ]
  },
  {
   "cell_type": "code",
   "execution_count": 241,
   "metadata": {},
   "outputs": [],
   "source": [
    "import pydotplus\n",
    "import graphviz"
   ]
  },
  {
   "cell_type": "code",
   "execution_count": 243,
   "metadata": {},
   "outputs": [
    {
     "ename": "InvocationException",
     "evalue": "GraphViz's executables not found",
     "output_type": "error",
     "traceback": [
      "\u001b[1;31m---------------------------------------------------------------------------\u001b[0m",
      "\u001b[1;31mInvocationException\u001b[0m                       Traceback (most recent call last)",
      "\u001b[1;32m<ipython-input-243-b1f404b8e97c>\u001b[0m in \u001b[0;36m<module>\u001b[1;34m\u001b[0m\n\u001b[0;32m      1\u001b[0m \u001b[0mgraph\u001b[0m \u001b[1;33m=\u001b[0m \u001b[0mpydotplus\u001b[0m\u001b[1;33m.\u001b[0m\u001b[0mgraph_from_dot_data\u001b[0m\u001b[1;33m(\u001b[0m\u001b[0mdot_data\u001b[0m\u001b[1;33m)\u001b[0m\u001b[1;33m\u001b[0m\u001b[1;33m\u001b[0m\u001b[0m\n\u001b[1;32m----> 2\u001b[1;33m \u001b[0mImage\u001b[0m\u001b[1;33m(\u001b[0m\u001b[0mgraph\u001b[0m\u001b[1;33m.\u001b[0m\u001b[0mcreate_png\u001b[0m\u001b[1;33m(\u001b[0m\u001b[1;33m)\u001b[0m\u001b[1;33m)\u001b[0m\u001b[1;33m\u001b[0m\u001b[1;33m\u001b[0m\u001b[0m\n\u001b[0m",
      "\u001b[1;32m~\\Anaconda3\\lib\\site-packages\\pydotplus\\graphviz.py\u001b[0m in \u001b[0;36m<lambda>\u001b[1;34m(f, prog)\u001b[0m\n\u001b[0;32m   1795\u001b[0m             self.__setattr__(\n\u001b[0;32m   1796\u001b[0m                 \u001b[1;34m'create_'\u001b[0m \u001b[1;33m+\u001b[0m \u001b[0mfrmt\u001b[0m\u001b[1;33m,\u001b[0m\u001b[1;33m\u001b[0m\u001b[1;33m\u001b[0m\u001b[0m\n\u001b[1;32m-> 1797\u001b[1;33m                 \u001b[1;32mlambda\u001b[0m \u001b[0mf\u001b[0m\u001b[1;33m=\u001b[0m\u001b[0mfrmt\u001b[0m\u001b[1;33m,\u001b[0m \u001b[0mprog\u001b[0m\u001b[1;33m=\u001b[0m\u001b[0mself\u001b[0m\u001b[1;33m.\u001b[0m\u001b[0mprog\u001b[0m\u001b[1;33m:\u001b[0m \u001b[0mself\u001b[0m\u001b[1;33m.\u001b[0m\u001b[0mcreate\u001b[0m\u001b[1;33m(\u001b[0m\u001b[0mformat\u001b[0m\u001b[1;33m=\u001b[0m\u001b[0mf\u001b[0m\u001b[1;33m,\u001b[0m \u001b[0mprog\u001b[0m\u001b[1;33m=\u001b[0m\u001b[0mprog\u001b[0m\u001b[1;33m)\u001b[0m\u001b[1;33m\u001b[0m\u001b[1;33m\u001b[0m\u001b[0m\n\u001b[0m\u001b[0;32m   1798\u001b[0m             )\n\u001b[0;32m   1799\u001b[0m             \u001b[0mf\u001b[0m \u001b[1;33m=\u001b[0m \u001b[0mself\u001b[0m\u001b[1;33m.\u001b[0m\u001b[0m__dict__\u001b[0m\u001b[1;33m[\u001b[0m\u001b[1;34m'create_'\u001b[0m \u001b[1;33m+\u001b[0m \u001b[0mfrmt\u001b[0m\u001b[1;33m]\u001b[0m\u001b[1;33m\u001b[0m\u001b[1;33m\u001b[0m\u001b[0m\n",
      "\u001b[1;32m~\\Anaconda3\\lib\\site-packages\\pydotplus\\graphviz.py\u001b[0m in \u001b[0;36mcreate\u001b[1;34m(self, prog, format)\u001b[0m\n\u001b[0;32m   1958\u001b[0m             \u001b[1;32mif\u001b[0m \u001b[0mself\u001b[0m\u001b[1;33m.\u001b[0m\u001b[0mprogs\u001b[0m \u001b[1;32mis\u001b[0m \u001b[1;32mNone\u001b[0m\u001b[1;33m:\u001b[0m\u001b[1;33m\u001b[0m\u001b[1;33m\u001b[0m\u001b[0m\n\u001b[0;32m   1959\u001b[0m                 raise InvocationException(\n\u001b[1;32m-> 1960\u001b[1;33m                     'GraphViz\\'s executables not found')\n\u001b[0m\u001b[0;32m   1961\u001b[0m \u001b[1;33m\u001b[0m\u001b[0m\n\u001b[0;32m   1962\u001b[0m         \u001b[1;32mif\u001b[0m \u001b[0mprog\u001b[0m \u001b[1;32mnot\u001b[0m \u001b[1;32min\u001b[0m \u001b[0mself\u001b[0m\u001b[1;33m.\u001b[0m\u001b[0mprogs\u001b[0m\u001b[1;33m:\u001b[0m\u001b[1;33m\u001b[0m\u001b[1;33m\u001b[0m\u001b[0m\n",
      "\u001b[1;31mInvocationException\u001b[0m: GraphViz's executables not found"
     ]
    }
   ],
   "source": [
    "graph = pydotplus.graph_from_dot_data(dot_data)\n",
    "Image(graph.create_png())"
   ]
  },
  {
   "cell_type": "code",
   "execution_count": null,
   "metadata": {},
   "outputs": [],
   "source": []
  },
  {
   "cell_type": "code",
   "execution_count": null,
   "metadata": {},
   "outputs": [],
   "source": []
  },
  {
   "cell_type": "code",
   "execution_count": null,
   "metadata": {},
   "outputs": [],
   "source": []
  },
  {
   "cell_type": "code",
   "execution_count": null,
   "metadata": {},
   "outputs": [],
   "source": []
  },
  {
   "cell_type": "code",
   "execution_count": null,
   "metadata": {},
   "outputs": [],
   "source": []
  },
  {
   "cell_type": "code",
   "execution_count": null,
   "metadata": {},
   "outputs": [],
   "source": []
  }
 ],
 "metadata": {
  "kernelspec": {
   "display_name": "Python 3",
   "language": "python",
   "name": "python3"
  },
  "language_info": {
   "codemirror_mode": {
    "name": "ipython",
    "version": 3
   },
   "file_extension": ".py",
   "mimetype": "text/x-python",
   "name": "python",
   "nbconvert_exporter": "python",
   "pygments_lexer": "ipython3",
   "version": "3.7.4"
  }
 },
 "nbformat": 4,
 "nbformat_minor": 2
}
